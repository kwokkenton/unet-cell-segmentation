{
 "cells": [
  {
   "cell_type": "code",
   "execution_count": null,
   "metadata": {},
   "outputs": [],
   "source": [
    "from PIL import Image\n",
    "\n",
    "def process_img(image):\n",
    "    new_img = np.array(image)/65535*255\n",
    "    thresh = 255//2\n",
    "    new_img[new_img < thresh ] = 0\n",
    "    new_img[new_img >= thresh ] = 255\n",
    "    return new_img\n",
    "\n",
    "for i in range(0,30):\n",
    "    path = f'data/membrane/test/label/{i}.png'\n",
    "    image = Image.open(path)\n",
    "    new_image = process_img(image).astype('uint8')\n",
    "    Image.fromarray(new_image).save(path)"
   ]
  }
 ],
 "metadata": {
  "kernelspec": {
   "display_name": "Python 3.9.10 ('base')",
   "language": "python",
   "name": "python3"
  },
  "language_info": {
   "name": "python",
   "version": "3.9.10"
  },
  "orig_nbformat": 4,
  "vscode": {
   "interpreter": {
    "hash": "742081a4bf02259e09260ac0108c9e3479924a6b57724730ce8e4dfbe6339517"
   }
  }
 },
 "nbformat": 4,
 "nbformat_minor": 2
}
